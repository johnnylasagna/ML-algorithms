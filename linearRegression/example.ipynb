{
 "cells": [
  {
   "cell_type": "code",
   "execution_count": 1,
   "id": "aec8bf7c",
   "metadata": {},
   "outputs": [],
   "source": [
    "from matplotlib import pyplot as plt\n",
    "import numpy as np"
   ]
  },
  {
   "cell_type": "code",
   "execution_count": 13,
   "id": "697ada38",
   "metadata": {},
   "outputs": [],
   "source": [
    "count = 20\n",
    "std = 0.1\n",
    "features = 5\n",
    "slope = np.random.random(features)*5\n",
    "intercept = np.random.random()*5"
   ]
  },
  {
   "cell_type": "code",
   "execution_count": 14,
   "id": "aee27d90",
   "metadata": {},
   "outputs": [
    {
     "name": "stdout",
     "output_type": "stream",
     "text": [
      "[4.94791679 4.1932904  0.38592865 4.90693163 0.96869895]\n",
      "2.1271766575177335\n"
     ]
    }
   ],
   "source": [
    "print(slope)\n",
    "print(intercept)"
   ]
  },
  {
   "cell_type": "code",
   "execution_count": 15,
   "id": "c58d3122",
   "metadata": {},
   "outputs": [],
   "source": [
    "X = np.array([[np.random.randint(0,5) for i in range(features)] for j in range(count)])\n",
    "y = np.array([np.dot(slope,i)+intercept for i in X])\n",
    "\n",
    "noise = np.random.normal(0,std,count)\n",
    "y = y+noise"
   ]
  },
  {
   "cell_type": "code",
   "execution_count": 16,
   "id": "e354c79f",
   "metadata": {},
   "outputs": [],
   "source": [
    "# print(X)\n",
    "# print(y)"
   ]
  },
  {
   "cell_type": "code",
   "execution_count": 17,
   "id": "a4541686",
   "metadata": {},
   "outputs": [],
   "source": [
    "# plot_X = X.T\n",
    "# print(plot_X)"
   ]
  },
  {
   "cell_type": "code",
   "execution_count": 18,
   "id": "e5aaffbe",
   "metadata": {},
   "outputs": [],
   "source": [
    "# for x in plot_X:\n",
    "#     plt.scatter(x,y)\n",
    "#     plt.axis('equal')\n",
    "#     plt.title('Scatter Plot for data')\n",
    "#     plt.show()"
   ]
  },
  {
   "cell_type": "code",
   "execution_count": 19,
   "id": "e981cd62",
   "metadata": {},
   "outputs": [],
   "source": [
    "from linearRegression import LinearRegression"
   ]
  },
  {
   "cell_type": "code",
   "execution_count": 20,
   "id": "5b881986",
   "metadata": {},
   "outputs": [
    {
     "name": "stdout",
     "output_type": "stream",
     "text": [
      "[4.94449932 4.17353653 0.41500396 4.9353912  0.9766514 ] 2.0484018523353105\n"
     ]
    }
   ],
   "source": [
    "iterations = 1000\n",
    "lr = 0.08\n",
    "model = LinearRegression(lr,iterations)\n",
    "model.fit(X,y)\n",
    "y_predict = [model.predict(i) for i in X]\n",
    "print(model.w, model.b)"
   ]
  },
  {
   "cell_type": "code",
   "execution_count": 21,
   "id": "45bd0567",
   "metadata": {},
   "outputs": [
    {
     "name": "stdout",
     "output_type": "stream",
     "text": [
      "[0.00341747 0.01975388 0.02907531 0.02845957 0.00795246] 0.07877480518242308\n",
      "0.13032450114645908\n"
     ]
    }
   ],
   "source": [
    "print(abs(model.w-slope), abs(model.b-intercept))\n",
    "print(model.costs[-1])"
   ]
  },
  {
   "cell_type": "code",
   "execution_count": 22,
   "id": "4d475c31",
   "metadata": {},
   "outputs": [],
   "source": [
    "# for x in plot_X:\n",
    "#     plt.scatter(x, y, label='Actual Data')\n",
    "#     plt.plot(x, y_predict, color='red', label='Predicted Line')\n",
    "#     plt.axis('equal')\n",
    "#     plt.title('Scatter Plot for data with Prediction Line')\n",
    "#     plt.show()"
   ]
  },
  {
   "cell_type": "code",
   "execution_count": 23,
   "id": "e4c3bf10",
   "metadata": {},
   "outputs": [
    {
     "data": {
      "image/png": "[encoded data removed]",
      "text/plain": [
       "<Figure size 640x480 with 1 Axes>"
      ]
     },
     "metadata": {},
     "output_type": "display_data"
    }
   ],
   "source": [
    "iterList = [i for i in range(len(model.costs))]\n",
    "plt.scatter(iterList, model.costs, label='Actual Data')\n",
    "plt.title('Error vs iteration')\n",
    "plt.show()"
   ]
  }
 ],
 "metadata": {
  "kernelspec": {
   "display_name": ".venv",
   "language": "python",
   "name": "python3"
  },
  "language_info": {
   "codemirror_mode": {
    "name": "ipython",
    "version": 3
   },
   "file_extension": ".py",
   "mimetype": "text/x-python",
   "name": "python",
   "nbconvert_exporter": "python",
   "pygments_lexer": "ipython3",
   "version": "3.12.10"
  }
 },
 "nbformat": 4,
 "nbformat_minor": 5
}
